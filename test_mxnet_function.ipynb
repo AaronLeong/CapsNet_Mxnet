{
 "cells": [
  {
   "cell_type": "code",
   "execution_count": 59,
   "metadata": {
    "ExecuteTime": {
     "end_time": "2017-11-03T04:21:16.690754Z",
     "start_time": "2017-11-03T04:21:16.680478Z"
    },
    "collapsed": true
   },
   "outputs": [],
   "source": [
    "import mxnet as mx\n",
    "from mxnet import nd"
   ]
  },
  {
   "cell_type": "code",
   "execution_count": 26,
   "metadata": {
    "ExecuteTime": {
     "end_time": "2017-11-02T08:45:34.568006Z",
     "start_time": "2017-11-02T08:45:34.561268Z"
    },
    "collapsed": true
   },
   "outputs": [],
   "source": [
    "w = nd.ones(shape=(1,6,6,32,8,10,16))\n",
    "x = nd.ones(shape=(1,6,6,32,8,1,1))\n",
    "b = nd.ones(shape=(1,6,6,32,1,10,1))"
   ]
  },
  {
   "cell_type": "code",
   "execution_count": 27,
   "metadata": {
    "ExecuteTime": {
     "end_time": "2017-11-02T08:45:43.110594Z",
     "start_time": "2017-11-02T08:45:43.102675Z"
    }
   },
   "outputs": [
    {
     "data": {
      "text/plain": [
       "(1, 6, 6, 32, 8, 10, 16)"
      ]
     },
     "execution_count": 27,
     "metadata": {},
     "output_type": "execute_result"
    }
   ],
   "source": [
    "y = x*w\n",
    "y.shape"
   ]
  },
  {
   "cell_type": "code",
   "execution_count": 29,
   "metadata": {
    "ExecuteTime": {
     "end_time": "2017-11-02T08:46:52.704751Z",
     "start_time": "2017-11-02T08:46:52.696586Z"
    }
   },
   "outputs": [
    {
     "data": {
      "text/plain": [
       "(1, 6, 6, 32, 8, 10, 1)"
      ]
     },
     "execution_count": 29,
     "metadata": {},
     "output_type": "execute_result"
    }
   ],
   "source": [
    "z = x*b\n",
    "z.shape"
   ]
  },
  {
   "cell_type": "code",
   "execution_count": 30,
   "metadata": {
    "ExecuteTime": {
     "end_time": "2017-11-02T10:38:36.186617Z",
     "start_time": "2017-11-02T10:38:36.141115Z"
    }
   },
   "outputs": [
    {
     "ename": "AttributeError",
     "evalue": "'NDArray' object has no attribute 'argmax'",
     "output_type": "error",
     "traceback": [
      "\u001b[0;31m---------------------------------------------------------------------------\u001b[0m",
      "\u001b[0;31mAttributeError\u001b[0m                            Traceback (most recent call last)",
      "\u001b[0;32m<ipython-input-30-a9901bab8963>\u001b[0m in \u001b[0;36m<module>\u001b[0;34m()\u001b[0m\n\u001b[0;32m----> 1\u001b[0;31m \u001b[0mz\u001b[0m\u001b[0;34m.\u001b[0m\u001b[0margmax\u001b[0m\u001b[0;34m\u001b[0m\u001b[0m\n\u001b[0m",
      "\u001b[0;31mAttributeError\u001b[0m: 'NDArray' object has no attribute 'argmax'"
     ]
    }
   ],
   "source": [
    "z.argmax()"
   ]
  },
  {
   "cell_type": "code",
   "execution_count": 61,
   "metadata": {
    "ExecuteTime": {
     "end_time": "2017-11-03T04:21:55.625708Z",
     "start_time": "2017-11-03T04:21:55.618865Z"
    },
    "collapsed": true
   },
   "outputs": [],
   "source": [
    "lable = nd.array([1,2,3,4,5,6,7,8,9])"
   ]
  },
  {
   "cell_type": "code",
   "execution_count": 63,
   "metadata": {
    "ExecuteTime": {
     "end_time": "2017-11-03T04:22:17.005586Z",
     "start_time": "2017-11-03T04:22:17.001665Z"
    },
    "collapsed": true
   },
   "outputs": [],
   "source": [
    "one_hot_label = nd.one_hot(lable,10)"
   ]
  },
  {
   "cell_type": "code",
   "execution_count": 64,
   "metadata": {
    "ExecuteTime": {
     "end_time": "2017-11-03T04:34:58.323755Z",
     "start_time": "2017-11-03T04:34:58.310725Z"
    }
   },
   "outputs": [
    {
     "ename": "AttributeError",
     "evalue": "'NDArray' object has no attribute 'argmax'",
     "output_type": "error",
     "traceback": [
      "\u001b[0;31m---------------------------------------------------------------------------\u001b[0m",
      "\u001b[0;31mAttributeError\u001b[0m                            Traceback (most recent call last)",
      "\u001b[0;32m<ipython-input-64-3c12e8e3ab58>\u001b[0m in \u001b[0;36m<module>\u001b[0;34m()\u001b[0m\n\u001b[0;32m----> 1\u001b[0;31m \u001b[0mone_hot_label\u001b[0m\u001b[0;34m.\u001b[0m\u001b[0margmax\u001b[0m\u001b[0;34m(\u001b[0m\u001b[0maxis\u001b[0m\u001b[0;34m=\u001b[0m\u001b[0;36m1\u001b[0m\u001b[0;34m)\u001b[0m\u001b[0;34m\u001b[0m\u001b[0m\n\u001b[0m",
      "\u001b[0;31mAttributeError\u001b[0m: 'NDArray' object has no attribute 'argmax'"
     ]
    }
   ],
   "source": [
    "one_hot_label.argmax(axis=1)"
   ]
  },
  {
   "cell_type": "code",
   "execution_count": 66,
   "metadata": {
    "ExecuteTime": {
     "end_time": "2017-11-03T08:21:53.666690Z",
     "start_time": "2017-11-03T08:21:53.659744Z"
    },
    "collapsed": true
   },
   "outputs": [],
   "source": [
    "lable2 = nd.array((1,2,3,4,5,6,7,8,9),ctx=mx.cpu())"
   ]
  },
  {
   "cell_type": "code",
   "execution_count": 103,
   "metadata": {
    "ExecuteTime": {
     "end_time": "2017-11-03T10:58:58.116864Z",
     "start_time": "2017-11-03T10:58:58.085408Z"
    },
    "collapsed": true
   },
   "outputs": [],
   "source": [
    "class Decoder(nn.Block):\n",
    "    def __init__(self, **kwargs):\n",
    "        super(Decoder, self).__init__(**kwargs)\n",
    "        self.net = nn.Sequential()\n",
    "        with self.name_scope():\n",
    "            self.net.add(nn.Dense(512, activation='relu'))\n",
    "            self.net.add(nn.Dense(1024, activation='relu'))\n",
    "            self.net.add(nn.Dense(784, activation='sigmoid'))\n",
    "\n",
    "\n",
    "    def forward(self, inp):\n",
    "        digitcaps,label = inp\n",
    "        x = nd.batch_dot(digitcaps,label)\n",
    "        x = nd.reshape(self.net(x),shape=(-1, 28, 28))\n",
    "\n",
    "        return x"
   ]
  },
  {
   "cell_type": "code",
   "execution_count": 104,
   "metadata": {
    "ExecuteTime": {
     "end_time": "2017-11-03T10:58:58.427283Z",
     "start_time": "2017-11-03T10:58:58.419403Z"
    }
   },
   "outputs": [],
   "source": [
    "outpus = nd.random_normal(shape=(32, 16, 10),ctx=mx.cpu()) \n",
    "outpus_label = nd.random_normal(shape=(32, 10,1),ctx=mx.cpu()) "
   ]
  },
  {
   "cell_type": "code",
   "execution_count": 105,
   "metadata": {
    "ExecuteTime": {
     "end_time": "2017-11-03T10:59:00.635299Z",
     "start_time": "2017-11-03T10:59:00.631610Z"
    }
   },
   "outputs": [],
   "source": [
    "x = nd.batch_dot(outpus,outpus_label)"
   ]
  },
  {
   "cell_type": "code",
   "execution_count": 106,
   "metadata": {
    "ExecuteTime": {
     "end_time": "2017-11-03T10:59:01.382091Z",
     "start_time": "2017-11-03T10:59:01.374315Z"
    }
   },
   "outputs": [],
   "source": [
    "net = Decoder()\n",
    "net.initialize(init=init.Xavier())"
   ]
  },
  {
   "cell_type": "code",
   "execution_count": 107,
   "metadata": {
    "ExecuteTime": {
     "end_time": "2017-11-03T10:59:13.460981Z",
     "start_time": "2017-11-03T10:59:13.451011Z"
    }
   },
   "outputs": [],
   "source": [
    "ou = net((outpus,outpus_label))"
   ]
  },
  {
   "cell_type": "code",
   "execution_count": 109,
   "metadata": {
    "ExecuteTime": {
     "end_time": "2017-11-03T10:59:28.851896Z",
     "start_time": "2017-11-03T10:59:28.846744Z"
    }
   },
   "outputs": [
    {
     "data": {
      "text/plain": [
       "(32, 28, 28)"
      ]
     },
     "execution_count": 109,
     "metadata": {},
     "output_type": "execute_result"
    }
   ],
   "source": [
    "ou.shape"
   ]
  },
  {
   "cell_type": "code",
   "execution_count": null,
   "metadata": {
    "collapsed": true
   },
   "outputs": [],
   "source": []
  }
 ],
 "metadata": {
  "kernelspec": {
   "display_name": "Python 3",
   "language": "python",
   "name": "python3"
  },
  "language_info": {
   "codemirror_mode": {
    "name": "ipython",
    "version": 3
   },
   "file_extension": ".py",
   "mimetype": "text/x-python",
   "name": "python",
   "nbconvert_exporter": "python",
   "pygments_lexer": "ipython3",
   "version": "3.5.2"
  }
 },
 "nbformat": 4,
 "nbformat_minor": 2
}
